{
 "cells": [
  {
   "cell_type": "code",
   "execution_count": null,
   "metadata": {},
   "outputs": [],
   "source": [
    "from matplotlib import pyplot as plt\n",
    "import numpy as np\n",
    "import pandas as pd\n",
    "import os"
   ]
  },
  {
   "cell_type": "markdown",
   "metadata": {},
   "source": [
    "# Volumes of Product"
   ]
  },
  {
   "cell_type": "code",
   "execution_count": null,
   "metadata": {},
   "outputs": [],
   "source": [
    "# Variables per agent and time step\n",
    "df_steps = pd.read_csv(\"agent_steps.csv\" , delimiter=\";\", header=0)\n",
    "print(df_steps.columns)"
   ]
  },
  {
   "cell_type": "code",
   "execution_count": null,
   "metadata": {},
   "outputs": [],
   "source": [
    "agents = ['Grower','Distributor','Retailer','Transporter (LD)', 'Transporter (SD)']\n",
    "\n",
    "titles = {\"q_stock\":\"Stock\",\"q_wasted\":\"Wasted\",\"q_consumed\":\"Consumed\"}\n",
    "def plots(df,field):\n",
    "    df_p = df[['step','id',field]]\n",
    "    fig, ax = plt.subplots(figsize=(8,6))\n",
    "    for label, dfg in df_p.groupby('id'):\n",
    "        dfg.plot('step',field,ax=ax, label=agents[label-1], title=titles[field], marker = '.')\n",
    "        \n",
    "    plt.ylabel(\"product units\")\n",
    "    plt.xlabel(\"ticks\")\n",
    "    plt.legend()"
   ]
  },
  {
   "cell_type": "markdown",
   "metadata": {},
   "source": [
    "### Stock"
   ]
  },
  {
   "cell_type": "code",
   "execution_count": null,
   "metadata": {},
   "outputs": [],
   "source": [
    "plots(df_steps,'q_stock')"
   ]
  },
  {
   "cell_type": "markdown",
   "metadata": {},
   "source": [
    "### Consumed"
   ]
  },
  {
   "cell_type": "code",
   "execution_count": null,
   "metadata": {},
   "outputs": [],
   "source": [
    "plots(df_steps,'q_consumed')"
   ]
  },
  {
   "cell_type": "markdown",
   "metadata": {},
   "source": [
    "### Wasted"
   ]
  },
  {
   "cell_type": "code",
   "execution_count": null,
   "metadata": {},
   "outputs": [],
   "source": [
    "plots(df_steps,'q_wasted')"
   ]
  },
  {
   "cell_type": "markdown",
   "metadata": {},
   "source": [
    "# Product Decay"
   ]
  },
  {
   "cell_type": "code",
   "execution_count": null,
   "metadata": {},
   "outputs": [],
   "source": [
    "# Product life tracker\n",
    "df_life = pd.read_csv(\"life_tracker.csv\" , delimiter=\";\", header=0)\n",
    "print(df_life.columns)"
   ]
  },
  {
   "cell_type": "code",
   "execution_count": null,
   "metadata": {},
   "outputs": [],
   "source": [
    "plt.plot(df_life['steps'],df_life['shelf_life_1'], label = \"reference temperature\", marker = '.')\n",
    "plt.plot(df_life['steps'],df_life['shelf_life_2'], label = \"alternative temperature 1\", marker = '.')\n",
    "plt.plot(df_life['steps'],df_life['shelf_life_3'], label = \"alternative temperature 2\", marker = '.')\n",
    "plt.ylabel(\"reference shelf_life\")\n",
    "plt.xlabel(\"ticks\")\n",
    "plt.title(\"Mean Shelf life for different temperatures\")\n",
    "plt.legend()\n",
    ";"
   ]
  }
 ],
 "metadata": {
  "kernelspec": {
   "display_name": "Python 3",
   "language": "python",
   "name": "python3"
  },
  "language_info": {
   "codemirror_mode": {
    "name": "ipython",
    "version": 3
   },
   "file_extension": ".py",
   "mimetype": "text/x-python",
   "name": "python",
   "nbconvert_exporter": "python",
   "pygments_lexer": "ipython3",
   "version": "3.7.6"
  }
 },
 "nbformat": 4,
 "nbformat_minor": 2
}
