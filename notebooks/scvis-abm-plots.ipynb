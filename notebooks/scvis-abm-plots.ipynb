{
 "cells": [
  {
   "cell_type": "code",
   "execution_count": 1,
   "metadata": {},
   "outputs": [
    {
     "name": "stdout",
     "output_type": "stream",
     "text": [
      "Collecting matplotlib\n",
      "  Downloading matplotlib-3.3.2-cp37-cp37m-manylinux1_x86_64.whl (11.6 MB)\n",
      "\u001b[K     |████████████████████████████████| 11.6 MB 3.4 MB/s eta 0:00:01\n",
      "\u001b[?25hRequirement already satisfied: python-dateutil>=2.1 in /srv/conda/envs/notebook/lib/python3.7/site-packages (from matplotlib) (2.8.1)\n",
      "Collecting numpy>=1.15\n",
      "  Downloading numpy-1.19.2-cp37-cp37m-manylinux2010_x86_64.whl (14.5 MB)\n",
      "\u001b[K     |████████████████████████████████| 14.5 MB 40.1 MB/s eta 0:00:01\n",
      "\u001b[?25hCollecting kiwisolver>=1.0.1\n",
      "  Downloading kiwisolver-1.2.0-cp37-cp37m-manylinux1_x86_64.whl (88 kB)\n",
      "\u001b[K     |████████████████████████████████| 88 kB 11.2 MB/s eta 0:00:01\n",
      "\u001b[?25hRequirement already satisfied: pyparsing!=2.0.4,!=2.1.2,!=2.1.6,>=2.0.3 in /srv/conda/envs/notebook/lib/python3.7/site-packages (from matplotlib) (2.4.7)\n",
      "Requirement already satisfied: certifi>=2020.06.20 in /srv/conda/envs/notebook/lib/python3.7/site-packages (from matplotlib) (2020.6.20)\n",
      "Collecting pillow>=6.2.0\n",
      "  Downloading Pillow-7.2.0-cp37-cp37m-manylinux1_x86_64.whl (2.2 MB)\n",
      "\u001b[K     |████████████████████████████████| 2.2 MB 68.6 MB/s eta 0:00:01\n",
      "\u001b[?25hCollecting cycler>=0.10\n",
      "  Downloading cycler-0.10.0-py2.py3-none-any.whl (6.5 kB)\n",
      "Requirement already satisfied: six>=1.5 in /srv/conda/envs/notebook/lib/python3.7/site-packages (from python-dateutil>=2.1->matplotlib) (1.15.0)\n",
      "Installing collected packages: numpy, kiwisolver, pillow, cycler, matplotlib\n",
      "Successfully installed cycler-0.10.0 kiwisolver-1.2.0 matplotlib-3.3.2 numpy-1.19.2 pillow-7.2.0\n",
      "Collecting pandas\n",
      "  Downloading pandas-1.1.2-cp37-cp37m-manylinux1_x86_64.whl (10.5 MB)\n",
      "\u001b[K     |████████████████████████████████| 10.5 MB 3.0 MB/s eta 0:00:01\n",
      "\u001b[?25hCollecting pytz>=2017.2\n",
      "  Downloading pytz-2020.1-py2.py3-none-any.whl (510 kB)\n",
      "\u001b[K     |████████████████████████████████| 510 kB 40.3 MB/s eta 0:00:01\n",
      "\u001b[?25hRequirement already satisfied: numpy>=1.15.4 in /srv/conda/envs/notebook/lib/python3.7/site-packages (from pandas) (1.19.2)\n",
      "Requirement already satisfied: python-dateutil>=2.7.3 in /srv/conda/envs/notebook/lib/python3.7/site-packages (from pandas) (2.8.1)\n",
      "Requirement already satisfied: six>=1.5 in /srv/conda/envs/notebook/lib/python3.7/site-packages (from python-dateutil>=2.7.3->pandas) (1.15.0)\n",
      "Installing collected packages: pytz, pandas\n",
      "Successfully installed pandas-1.1.2 pytz-2020.1\n",
      "Collecting np\n",
      "  Downloading np-1.0.2.tar.gz (7.4 kB)\n",
      "Building wheels for collected packages: np\n",
      "  Building wheel for np (setup.py) ... \u001b[?25ldone\n",
      "\u001b[?25h  Created wheel for np: filename=np-1.0.2-py3-none-any.whl size=13652 sha256=8cf66b550705338341468e64c3fdaada8c079950975088ad21bd118a27a73e03\n",
      "  Stored in directory: /home/jovyan/.cache/pip/wheels/8d/31/5b/f3f27c678f2b3ad7e29903ed09bb7446717fd4c8b35f53973a\n",
      "Successfully built np\n",
      "Installing collected packages: np\n",
      "Successfully installed np-1.0.2\n"
     ]
    }
   ],
   "source": [
    "!pip install matplotlib\n",
    "!pip install pandas\n",
    "!pip install np"
   ]
  },
  {
   "cell_type": "code",
   "execution_count": 2,
   "metadata": {},
   "outputs": [],
   "source": [
    "from matplotlib import pyplot as plt\n",
    "import numpy as np\n",
    "import pandas as pd\n",
    "import os"
   ]
  },
  {
   "cell_type": "markdown",
   "metadata": {},
   "source": [
    "# Volumes of Product"
   ]
  },
  {
   "cell_type": "code",
   "execution_count": 3,
   "metadata": {},
   "outputs": [],
   "source": [
    "data_dir = \"../sw21/datasets/\""
   ]
  },
  {
   "cell_type": "code",
   "execution_count": 4,
   "metadata": {},
   "outputs": [],
   "source": [
    "# Variables per agent and time step\n",
    "df1r1_steps = pd.read_csv(data_dir+\"ex1_r1_agent_steps.csv\" , delimiter=\";\", header=0)\n",
    "df2r1_steps = pd.read_csv(data_dir+\"ex2_r1_agent_steps.csv\" , delimiter=\";\", header=0)\n",
    "df1r2_steps = pd.read_csv(data_dir+\"ex1_r2_agent_steps.csv\" , delimiter=\";\", header=0)\n",
    "df2r2_steps = pd.read_csv(data_dir+\"ex2_r2_agent_steps.csv\" , delimiter=\";\", header=0)\n",
    "df1r3_steps = pd.read_csv(data_dir+\"ex1_r3_agent_steps.csv\" , delimiter=\";\", header=0)\n",
    "df2r3_steps = pd.read_csv(data_dir+\"ex2_r3_agent_steps.csv\" , delimiter=\";\", header=0)\n",
    "df1r4_steps = pd.read_csv(data_dir+\"ex1_r4_agent_steps.csv\" , delimiter=\";\", header=0)\n",
    "df2r4_steps = pd.read_csv(data_dir+\"ex2_r5_agent_steps.csv\" , delimiter=\";\", header=0)\n",
    "df1r5_steps = pd.read_csv(data_dir+\"ex1_r5_agent_steps.csv\" , delimiter=\";\", header=0)\n",
    "df2r5_steps = pd.read_csv(data_dir+\"ex2_r6_agent_steps.csv\" , delimiter=\";\", header=0)\n",
    "df1r6_steps = pd.read_csv(data_dir+\"ex1_r6_agent_steps.csv\" , delimiter=\";\", header=0)\n",
    "df2r6_steps = pd.read_csv(data_dir+\"ex2_r6_agent_steps.csv\" , delimiter=\";\", header=0)\n",
    "df1r7_steps = pd.read_csv(data_dir+\"ex1_r7_agent_steps.csv\" , delimiter=\";\", header=0)\n",
    "df2r7_steps = pd.read_csv(data_dir+\"ex2_r7_agent_steps.csv\" , delimiter=\";\", header=0)\n",
    "df1r8_steps = pd.read_csv(data_dir+\"ex1_r8_agent_steps.csv\" , delimiter=\";\", header=0)\n",
    "df2r8_steps = pd.read_csv(data_dir+\"ex2_r8_agent_steps.csv\" , delimiter=\";\", header=0)"
   ]
  },
  {
   "cell_type": "code",
   "execution_count": 5,
   "metadata": {},
   "outputs": [],
   "source": [
    "agents = ['Grower_1','Grower_2','Distributor','Retailer','Transporter_1 (LD)','Transporter_2 (LD)', 'Transporter (SD)']\n",
    "\n",
    "titles = {\"q_stock\":\"Stock\",\"q_wasted\":\"Wasted\",\"q_consumed\":\"Consumed\"}\n",
    "def plots(df,field,ex):\n",
    "    df_p = df[['step','id',field]]\n",
    "    fig, ax = plt.subplots(figsize=(8,6))\n",
    "    pls = []\n",
    "    for label, dfg in df_p.groupby('id'):\n",
    "        dfg.plot('step',field,ax=ax, label=agents[label-1], title=ex+\": \"+titles[field], marker = '.')\n",
    "        \n",
    "    plt.ylabel(\"product units\")\n",
    "    plt.xlabel(\"ticks\")\n",
    "    plt.legend(handles=ax.get_legend_handles_labels()[0], title='Agents', bbox_to_anchor=(1.05, 1), loc='upper left')"
   ]
  },
  {
   "cell_type": "markdown",
   "metadata": {},
   "source": [
    "### Wasted Details"
   ]
  },
  {
   "cell_type": "code",
   "execution_count": 6,
   "metadata": {},
   "outputs": [],
   "source": [
    "time_step = 0\n",
    "df1r1_waste = np.array([])\n",
    "df1r1_cons = np.array([])\n",
    "df2r1_waste = np.array([])\n",
    "df2r1_cons = np.array([])\n",
    "df1r2_waste = np.array([])\n",
    "df1r2_cons = np.array([])\n",
    "df2r2_waste = np.array([])\n",
    "df2r2_cons = np.array([])\n",
    "df1r3_waste = np.array([])\n",
    "df1r3_cons = np.array([])\n",
    "df2r3_waste = np.array([])\n",
    "df2r3_cons = np.array([])\n",
    "df1r4_waste = np.array([])\n",
    "df1r4_cons = np.array([])\n",
    "df2r4_waste = np.array([])\n",
    "df2r4_cons = np.array([])\n",
    "df1r5_waste = np.array([])\n",
    "df1r5_cons = np.array([])\n",
    "df2r5_waste = np.array([])\n",
    "df2r5_cons = np.array([])\n",
    "df1r6_waste = np.array([])\n",
    "df1r6_cons = np.array([])\n",
    "df2r6_waste = np.array([])\n",
    "df2r6_cons = np.array([])\n",
    "df1r7_waste = np.array([])\n",
    "df1r7_cons = np.array([])\n",
    "df2r7_waste = np.array([])\n",
    "df2r7_cons = np.array([])\n",
    "df1r8_waste = np.array([])\n",
    "df1r8_cons = np.array([])\n",
    "df2r8_waste = np.array([])\n",
    "df2r8_cons = np.array([])\n",
    "\n",
    "while time_step < 301:\n",
    "    \n",
    "    df1r1_waste_step = df1r1_steps[df1r1_steps[\"step\"]== time_step].sum()[\"q_wasted\"]\n",
    "    df1r1_waste = np.append(df1r1_waste, df1r1_waste_step)\n",
    "    df1r1_cons_step = df1r1_steps[df1r1_steps[\"step\"]== time_step].sum()[\"q_consumed\"]\n",
    "    df1r1_cons = np.append(df1r1_cons, df1r1_cons_step)\n",
    "    \n",
    "    df1r2_waste_step = df1r2_steps[df1r2_steps[\"step\"]== time_step].sum()[\"q_wasted\"]\n",
    "    df1r2_waste = np.append(df1r2_waste, df1r2_waste_step)\n",
    "    df1r2_cons_step = df1r2_steps[df1r2_steps[\"step\"]== time_step].sum()[\"q_consumed\"]\n",
    "    df1r2_cons = np.append(df1r2_cons, df1r2_cons_step)\n",
    "    \n",
    "    df1r3_waste_step = df1r3_steps[df1r3_steps[\"step\"]== time_step].sum()[\"q_wasted\"]\n",
    "    df1r3_waste = np.append(df1r3_waste, df1r3_waste_step)\n",
    "    df1r3_cons_step = df1r3_steps[df1r3_steps[\"step\"]== time_step].sum()[\"q_consumed\"]\n",
    "    df1r3_cons = np.append(df1r3_cons, df1r3_cons_step)\n",
    "    \n",
    "    df1r4_waste_step = df1r4_steps[df1r4_steps[\"step\"]== time_step].sum()[\"q_wasted\"]\n",
    "    df1r4_waste = np.append(df1r4_waste, df1r4_waste_step)\n",
    "    df1r4_cons_step = df1r4_steps[df1r4_steps[\"step\"]== time_step].sum()[\"q_consumed\"]\n",
    "    df1r4_cons = np.append(df1r4_cons, df1r4_cons_step)\n",
    "    \n",
    "    df1r5_waste_step = df1r5_steps[df1r5_steps[\"step\"]== time_step].sum()[\"q_wasted\"]\n",
    "    df1r5_waste = np.append(df1r5_waste, df1r5_waste_step)\n",
    "    df1r5_cons_step = df1r5_steps[df1r5_steps[\"step\"]== time_step].sum()[\"q_consumed\"]\n",
    "    df1r5_cons = np.append(df1r5_cons, df1r5_cons_step)\n",
    "    \n",
    "    df1r6_waste_step = df1r6_steps[df1r6_steps[\"step\"]== time_step].sum()[\"q_wasted\"]\n",
    "    df1r6_waste = np.append(df1r6_waste, df1r6_waste_step)\n",
    "    df1r6_cons_step = df1r6_steps[df1r6_steps[\"step\"]== time_step].sum()[\"q_consumed\"]\n",
    "    df1r6_cons = np.append(df1r6_cons, df1r6_cons_step)\n",
    "    \n",
    "    df1r7_waste_step = df1r7_steps[df1r7_steps[\"step\"]== time_step].sum()[\"q_wasted\"]\n",
    "    df1r7_waste = np.append(df1r7_waste, df1r7_waste_step)\n",
    "    df1r7_cons_step = df1r7_steps[df1r7_steps[\"step\"]== time_step].sum()[\"q_consumed\"]\n",
    "    df1r7_cons = np.append(df1r7_cons, df1r7_cons_step)\n",
    "    \n",
    "    df1r8_waste_step = df1r8_steps[df1r8_steps[\"step\"]== time_step].sum()[\"q_wasted\"]\n",
    "    df1r8_waste = np.append(df1r8_waste, df1r8_waste_step)\n",
    "    df1r8_cons_step = df1r8_steps[df1r8_steps[\"step\"]== time_step].sum()[\"q_consumed\"]\n",
    "    df1r8_cons = np.append(df1r8_cons, df1r8_cons_step)\n",
    "    \n",
    "    \n",
    "    df2r1_waste_step = df2r1_steps[df2r1_steps[\"step\"]== time_step].sum()[\"q_wasted\"]\n",
    "    df2r1_waste = np.append(df2r1_waste, df2r1_waste_step)\n",
    "    df2r1_cons_step = df2r1_steps[df2r1_steps[\"step\"]== time_step].sum()[\"q_consumed\"]\n",
    "    df2r1_cons = np.append(df2r1_cons, df2r1_cons_step)\n",
    "    \n",
    "    df2r2_waste_step = df2r2_steps[df2r2_steps[\"step\"]== time_step].sum()[\"q_wasted\"]\n",
    "    df2r2_waste = np.append(df2r2_waste, df2r2_waste_step)\n",
    "    df2r2_cons_step = df2r2_steps[df2r2_steps[\"step\"]== time_step].sum()[\"q_consumed\"]\n",
    "    df2r1_cons = np.append(df2r2_cons, df2r2_cons_step)\n",
    "    \n",
    "    time_step += 1\n",
    "\n"
   ]
  },
  {
   "cell_type": "code",
   "execution_count": 7,
   "metadata": {},
   "outputs": [
    {
     "data": {
      "image/png": "[encoded data removed]",
      "text/plain": [
       "<Figure size 432x288 with 1 Axes>"
      ]
     },
     "metadata": {
      "needs_background": "light"
     },
     "output_type": "display_data"
    },
    {
     "data": {
      "image/png": "[encoded data removed]",
      "text/plain": [
       "<Figure size 432x288 with 1 Axes>"
      ]
     },
     "metadata": {
      "needs_background": "light"
     },
     "output_type": "display_data"
    }
   ],
   "source": [
    "plt.plot(df1r1_cons)\n",
    "plt.plot(df2r1_cons)\n",
    "plt.plot(df1r2_cons)\n",
    "plt.plot(df2r2_cons)\n",
    "plt.title('Consumption')\n",
    "plt.xlabel('Time Steps')\n",
    "plt.ylabel('Volume of Product')\n",
    "\n",
    "plt.show()\n",
    "\n",
    "plt.plot(df1r1_waste)\n",
    "plt.plot(df1r2_waste)\n",
    "plt.plot(df1r3_waste)\n",
    "plt.plot(df1r4_waste)\n",
    "plt.plot(df1r5_waste)\n",
    "plt.plot(df1r6_waste)\n",
    "plt.plot(df1r7_waste)\n",
    "plt.plot(df1r8_waste)\n",
    "plt.title('Waste')\n",
    "plt.xlabel('Time Steps')\n",
    "plt.ylabel('Volume of Product')\n",
    "\n",
    "plt.show()"
   ]
  },
  {
   "cell_type": "code",
   "execution_count": 8,
   "metadata": {},
   "outputs": [],
   "source": [
    "## Waste in Ex1r1\n",
    "df1r1_w_tot = df1r1_steps.sum()[\"q_wasted\"]\n",
    "df1r1_c_tot = df1r1_steps.sum()[\"q_consumed\"]\n",
    "df1r1_final_stock = df1r1_steps[df1r1_steps[\"step\"]== 500].sum()[\"q_stock\"]\n",
    "df1r1_w_per = (df1r1_w_tot/(df1r1_c_tot+df1r1_w_tot+df1r1_final_stock))*100\n",
    "\n",
    "\n",
    "## Waste in Ex1r2\n",
    "df1r2_w_tot = df1r2_steps.sum()[\"q_wasted\"]\n",
    "df1r2_c_tot = df1r2_steps.sum()[\"q_consumed\"]\n",
    "df1r2_final_stock = df1r2_steps[df1r2_steps[\"step\"]== 500].sum()[\"q_stock\"]\n",
    "df1r2_w_per = (df1r2_w_tot/(df1r2_c_tot+df1r2_w_tot+df1r2_final_stock))*100\n",
    "\n",
    "## Waste in Ex1r3\n",
    "df1r3_w_tot = df1r3_steps.sum()[\"q_wasted\"]\n",
    "df1r3_c_tot = df1r3_steps.sum()[\"q_consumed\"]\n",
    "df1r3_final_stock = df1r3_steps[df1r3_steps[\"step\"]== 500].sum()[\"q_stock\"]\n",
    "df1r3_w_per = (df1r3_w_tot/(df1r3_c_tot+df1r3_w_tot+df1r3_final_stock))*100\n",
    "\n",
    "## Waste in Ex1r4\n",
    "df1r4_w_tot = df1r4_steps.sum()[\"q_wasted\"]\n",
    "df1r4_c_tot = df1r4_steps.sum()[\"q_consumed\"]\n",
    "df1r4_final_stock = df1r4_steps[df1r4_steps[\"step\"]== 500].sum()[\"q_stock\"]\n",
    "df1r4_w_per = (df1r4_w_tot/(df1r4_c_tot+df1r4_w_tot+df1r4_final_stock))*100\n",
    "\n",
    "## Waste in Ex1r5\n",
    "df1r5_w_tot = df1r5_steps.sum()[\"q_wasted\"]\n",
    "df1r5_c_tot = df1r5_steps.sum()[\"q_consumed\"]\n",
    "df1r5_final_stock = df1r5_steps[df1r5_steps[\"step\"]== 500].sum()[\"q_stock\"]\n",
    "df1r5_w_per = (df1r5_w_tot/(df1r5_c_tot+df1r5_w_tot+df1r5_final_stock))*100\n",
    "\n",
    "## Waste in Ex1r6\n",
    "df1r6_w_tot = df1r6_steps.sum()[\"q_wasted\"]\n",
    "df1r6_c_tot = df1r6_steps.sum()[\"q_consumed\"]\n",
    "df1r6_final_stock = df1r6_steps[df1r6_steps[\"step\"]== 500].sum()[\"q_stock\"]\n",
    "df1r6_w_per = (df1r6_w_tot/(df1r6_c_tot+df1r6_w_tot+df1r6_final_stock))*100\n",
    "\n",
    "## Waste in Ex1r7\n",
    "df1r7_w_tot = df1r7_steps.sum()[\"q_wasted\"]\n",
    "df1r7_c_tot = df1r7_steps.sum()[\"q_consumed\"]\n",
    "df1r7_final_stock = df1r7_steps[df1r7_steps[\"step\"]== 500].sum()[\"q_stock\"]\n",
    "df1r7_w_per = (df1r7_w_tot/(df1r7_c_tot+df1r7_w_tot+df1r7_final_stock))*100\n",
    "\n",
    "## Waste in Ex1r8\n",
    "df1r8_w_tot = df1r8_steps.sum()[\"q_wasted\"]\n",
    "df1r8_c_tot = df1r8_steps.sum()[\"q_consumed\"]\n",
    "df1r8_final_stock = df1r8_steps[df1r8_steps[\"step\"]== 500].sum()[\"q_stock\"]\n",
    "df1r8_w_per = (df1r8_w_tot/(df1r8_c_tot+df1r8_w_tot+df1r8_final_stock))*100\n",
    "\n",
    "### End Ex1 and move on Ex2\n",
    "\n",
    "## Waste in Ex2r1\n",
    "df2r1_w_tot = df2r1_steps.sum()[\"q_wasted\"]\n",
    "df2r1_c_tot = df2r1_steps.sum()[\"q_consumed\"]\n",
    "df2r1_final_stock = df2r1_steps[df2r1_steps[\"step\"]== 500].sum()[\"q_stock\"]\n",
    "df2r1_w_per = (df2r1_w_tot/(df2r1_c_tot+df2r1_w_tot+df2r1_final_stock))*100\n",
    "\n",
    "## Waste in Ex2r2\n",
    "df2r2_w_tot = df2r2_steps.sum()[\"q_wasted\"]\n",
    "df2r2_c_tot = df2r2_steps.sum()[\"q_consumed\"]\n",
    "df2r2_final_stock = df2r2_steps[df2r2_steps[\"step\"]== 500].sum()[\"q_stock\"]\n",
    "df2r2_w_per = (df2r2_w_tot/(df2r2_c_tot+df2r2_w_tot+df2r2_final_stock))*100\n",
    "\n",
    "## Waste in Ex2r3\n",
    "df2r3_w_tot = df2r1_steps.sum()[\"q_wasted\"]\n",
    "df2r3_c_tot = df2r1_steps.sum()[\"q_consumed\"]\n",
    "df2r3_final_stock = df2r1_steps[df2r1_steps[\"step\"]== 500].sum()[\"q_stock\"]\n",
    "df2r3_w_per = (df2r1_w_tot/(df2r1_c_tot+df2r1_w_tot+df2r1_final_stock))*100\n",
    "\n",
    "## Waste in Ex2r4\n",
    "df2r4_w_tot = df2r2_steps.sum()[\"q_wasted\"]\n",
    "df2r4_c_tot = df2r2_steps.sum()[\"q_consumed\"]\n",
    "df2r4_final_stock = df2r2_steps[df2r2_steps[\"step\"]== 500].sum()[\"q_stock\"]\n",
    "df2r4_w_per = (df2r2_w_tot/(df2r2_c_tot+df2r2_w_tot+df2r2_final_stock))*100\n",
    "\n",
    "## Waste in Ex2r5\n",
    "df2r5_w_tot = df2r1_steps.sum()[\"q_wasted\"]\n",
    "df2r5_c_tot = df2r1_steps.sum()[\"q_consumed\"]\n",
    "df2r5_final_stock = df2r1_steps[df2r1_steps[\"step\"]== 500].sum()[\"q_stock\"]\n",
    "df2r5_w_per = (df2r1_w_tot/(df2r1_c_tot+df2r1_w_tot+df2r1_final_stock))*100\n",
    "\n",
    "## Waste in Ex2r6\n",
    "df2r6_w_tot = df2r2_steps.sum()[\"q_wasted\"]\n",
    "df2r6_c_tot = df2r2_steps.sum()[\"q_consumed\"]\n",
    "df2r6_final_stock = df2r2_steps[df2r2_steps[\"step\"]== 500].sum()[\"q_stock\"]\n",
    "df2r6_w_per = (df2r2_w_tot/(df2r2_c_tot+df2r2_w_tot+df2r2_final_stock))*100\n",
    "\n",
    "## Waste in Ex2r7\n",
    "df2r7_w_tot = df2r1_steps.sum()[\"q_wasted\"]\n",
    "df2r7_c_tot = df2r1_steps.sum()[\"q_consumed\"]\n",
    "df2r7_final_stock = df2r1_steps[df2r1_steps[\"step\"]== 500].sum()[\"q_stock\"]\n",
    "df2r7_w_per = (df2r1_w_tot/(df2r1_c_tot+df2r1_w_tot+df2r1_final_stock))*100\n",
    "\n",
    "## Waste in Ex2r8\n",
    "df2r8_w_tot = df2r2_steps.sum()[\"q_wasted\"]\n",
    "df2r8_c_tot = df2r2_steps.sum()[\"q_consumed\"]\n",
    "df2r8_final_stock = df2r2_steps[df2r2_steps[\"step\"]== 500].sum()[\"q_stock\"]\n",
    "df2r8_w_per = (df2r2_w_tot/(df2r2_c_tot+df2r2_w_tot+df2r2_final_stock))*100"
   ]
  },
  {
   "cell_type": "code",
   "execution_count": 9,
   "metadata": {},
   "outputs": [
    {
     "data": {
      "image/png": "[encoded data removed]",
      "text/plain": [
       "<Figure size 432x288 with 1 Axes>"
      ]
     },
     "metadata": {
      "needs_background": "light"
     },
     "output_type": "display_data"
    },
    {
     "data": {
      "text/html": [
       "<div>\n",
       "<style scoped>\n",
       "    .dataframe tbody tr th:only-of-type {\n",
       "        vertical-align: middle;\n",
       "    }\n",
       "\n",
       "    .dataframe tbody tr th {\n",
       "        vertical-align: top;\n",
       "    }\n",
       "\n",
       "    .dataframe thead th {\n",
       "        text-align: right;\n",
       "    }\n",
       "</style>\n",
       "<table border=\"1\" class=\"dataframe\">\n",
       "  <thead>\n",
       "    <tr style=\"text-align: right;\">\n",
       "      <th></th>\n",
       "      <th>0</th>\n",
       "    </tr>\n",
       "  </thead>\n",
       "  <tbody>\n",
       "    <tr>\n",
       "      <th>Run 1</th>\n",
       "      <td>1.423063</td>\n",
       "    </tr>\n",
       "    <tr>\n",
       "      <th>Run 2</th>\n",
       "      <td>1.419512</td>\n",
       "    </tr>\n",
       "    <tr>\n",
       "      <th>Run 3</th>\n",
       "      <td>1.302486</td>\n",
       "    </tr>\n",
       "    <tr>\n",
       "      <th>Run 4</th>\n",
       "      <td>1.272809</td>\n",
       "    </tr>\n",
       "    <tr>\n",
       "      <th>Run 5</th>\n",
       "      <td>1.317428</td>\n",
       "    </tr>\n",
       "    <tr>\n",
       "      <th>Run 6</th>\n",
       "      <td>1.386036</td>\n",
       "    </tr>\n",
       "    <tr>\n",
       "      <th>Run 7</th>\n",
       "      <td>1.420482</td>\n",
       "    </tr>\n",
       "    <tr>\n",
       "      <th>Run 8</th>\n",
       "      <td>1.271158</td>\n",
       "    </tr>\n",
       "  </tbody>\n",
       "</table>\n",
       "</div>"
      ],
      "text/plain": [
       "              0\n",
       "Run 1  1.423063\n",
       "Run 2  1.419512\n",
       "Run 3  1.302486\n",
       "Run 4  1.272809\n",
       "Run 5  1.317428\n",
       "Run 6  1.386036\n",
       "Run 7  1.420482\n",
       "Run 8  1.271158"
      ]
     },
     "execution_count": 9,
     "metadata": {},
     "output_type": "execute_result"
    }
   ],
   "source": [
    "ex1_waste_labels = ['Run 1', 'Run 2', 'Run 3', 'Run 4', 'Run 5', 'Run 6', 'Run 7', 'Run 8', ]\n",
    "ex1_waste = [df1r1_w_per, df1r2_w_per, df1r3_w_per, df1r4_w_per, df1r5_w_per, df1r6_w_per, df1r7_w_per, df1r8_w_per]\n",
    "x_pos = [i for i, _ in enumerate(ex1_waste_labels)]\n",
    "\n",
    "plt.bar(x_pos, ex1_waste, color='green')\n",
    "plt.xlabel(\"Simulation Runs\")\n",
    "plt.ylabel(\"Waste Percentage\")\n",
    "plt.title(\"Waste Percentate in Full Information Scenario\")\n",
    "\n",
    "plt.xticks(x_pos, ex1_waste_labels)\n",
    "\n",
    "plt.show()\n",
    "\n",
    "pd.DataFrame(ex1_waste, ex1_waste_labels)"
   ]
  },
  {
   "cell_type": "code",
   "execution_count": 17,
   "metadata": {},
   "outputs": [
    {
     "name": "stdout",
     "output_type": "stream",
     "text": [
      "[0, 1, 2, 3, 4, 5, 6, 7]\n"
     ]
    },
    {
     "data": {
      "image/png": "[encoded data removed]",
      "text/plain": [
       "<Figure size 432x288 with 1 Axes>"
      ]
     },
     "metadata": {
      "needs_background": "light"
     },
     "output_type": "display_data"
    },
    {
     "data": {
      "text/html": [
       "<div>\n",
       "<style scoped>\n",
       "    .dataframe tbody tr th:only-of-type {\n",
       "        vertical-align: middle;\n",
       "    }\n",
       "\n",
       "    .dataframe tbody tr th {\n",
       "        vertical-align: top;\n",
       "    }\n",
       "\n",
       "    .dataframe thead th {\n",
       "        text-align: right;\n",
       "    }\n",
       "</style>\n",
       "<table border=\"1\" class=\"dataframe\">\n",
       "  <thead>\n",
       "    <tr style=\"text-align: right;\">\n",
       "      <th></th>\n",
       "      <th>0</th>\n",
       "    </tr>\n",
       "  </thead>\n",
       "  <tbody>\n",
       "    <tr>\n",
       "      <th>Run 1</th>\n",
       "      <td>4.335228</td>\n",
       "    </tr>\n",
       "    <tr>\n",
       "      <th>Run 2</th>\n",
       "      <td>3.899349</td>\n",
       "    </tr>\n",
       "    <tr>\n",
       "      <th>Run 3</th>\n",
       "      <td>4.335228</td>\n",
       "    </tr>\n",
       "    <tr>\n",
       "      <th>Run 4</th>\n",
       "      <td>3.899349</td>\n",
       "    </tr>\n",
       "    <tr>\n",
       "      <th>Run 5</th>\n",
       "      <td>4.335228</td>\n",
       "    </tr>\n",
       "    <tr>\n",
       "      <th>Run 6</th>\n",
       "      <td>3.899349</td>\n",
       "    </tr>\n",
       "    <tr>\n",
       "      <th>Run 7</th>\n",
       "      <td>4.335228</td>\n",
       "    </tr>\n",
       "    <tr>\n",
       "      <th>Run 8</th>\n",
       "      <td>3.899349</td>\n",
       "    </tr>\n",
       "  </tbody>\n",
       "</table>\n",
       "</div>"
      ],
      "text/plain": [
       "              0\n",
       "Run 1  4.335228\n",
       "Run 2  3.899349\n",
       "Run 3  4.335228\n",
       "Run 4  3.899349\n",
       "Run 5  4.335228\n",
       "Run 6  3.899349\n",
       "Run 7  4.335228\n",
       "Run 8  3.899349"
      ]
     },
     "execution_count": 17,
     "metadata": {},
     "output_type": "execute_result"
    }
   ],
   "source": [
    "ex2_waste_labels = ['Run 1', 'Run 2', 'Run 3', 'Run 4', 'Run 5', 'Run 6', 'Run 7', 'Run 8', ]\n",
    "ex2_waste = [df2r1_w_per, df2r2_w_per, df2r3_w_per, df2r4_w_per, df2r5_w_per, df2r6_w_per, df2r7_w_per, df2r8_w_per]\n",
    "x_pos = [i for i, _ in enumerate(ex2_waste_labels)]\n",
    "print(x_pos)\n",
    "\n",
    "plt.bar(x_pos, ex2_waste, color='blue')\n",
    "plt.xlabel(\"Simulation Runs\")\n",
    "plt.ylabel(\"Waste Percentage\")\n",
    "plt.title(\"Waste Percentate in Zero Information Scenario\")\n",
    "\n",
    "plt.xticks(x_pos, ex2_waste_labels)\n",
    "\n",
    "plt.show()\n",
    "\n",
    "pd.DataFrame(ex2_waste, ex2_waste_labels)"
   ]
  },
  {
   "cell_type": "code",
   "execution_count": 19,
   "metadata": {},
   "outputs": [
    {
     "data": {
      "image/png": "[encoded data removed]",
      "text/plain": [
       "<Figure size 432x288 with 1 Axes>"
      ]
     },
     "metadata": {
      "needs_background": "light"
     },
     "output_type": "display_data"
    }
   ],
   "source": [
    "data = [ex1_waste, ex2_waste]\n",
    "\n",
    "color_list = ['b', 'g', 'r']\n",
    "gap = .8 / len(data)\n",
    "for i, row in enumerate(data):\n",
    "  X = np.arange(len(row))\n",
    "  plt.bar(X + i * gap, row,\n",
    "    width = gap,\n",
    "    color = color_list[i % len(color_list)])\n",
    "\n",
    "plt.xlabel(\"Simulation Runs\")\n",
    "plt.ylabel(\"Waste Percentage\")\n",
    "plt.title(\"Waste Percentate Comparison\")\n",
    "\n",
    "plt.show()"
   ]
  },
  {
   "cell_type": "code",
   "execution_count": null,
   "metadata": {},
   "outputs": [],
   "source": [
    "print(\"Ex1 Round 1\")\n",
    "print(\"final stock:\", df1r1_final_stock)\n",
    "print(\"units consumed:\", df1r1_c_tot)\n",
    "print(\"units wasted:\", df1r1_w_tot)\n",
    "print(\"percentage waste:\", round(df1r1_w_per,2), \"%\")\n",
    "print(\"\")\n",
    "print(\"Ex1 Round 2\")\n",
    "print(\"final stock:\", df1r2_final_stock)\n",
    "print(\"units consumed:\", df1r2_c_tot)\n",
    "print(\"units wasted:\", df1r2_w_tot)\n",
    "print(\"percentage waste:\", round(df1r2_w_per,2), \"%\")\n",
    "print(\"\")\n",
    "print(\"Ex2 Round 1\")\n",
    "print(\"final stock:\", df2r1_final_stock)\n",
    "print(\"units consumed:\", df2r1_c_tot)\n",
    "print(\"units wasted:\", df2r1_w_tot)\n",
    "print(\"percentage waste:\", round(df2r1_w_per,2), \"%\")\n",
    "print(\"\")\n",
    "print(\"Ex2 Round 2\")\n",
    "print(\"final stock:\", df2r2_final_stock)\n",
    "print(\"units consumed:\", df2r2_c_tot)\n",
    "print(\"units wasted:\", df2r2_w_tot)\n",
    "print(\"percentage waste:\", round(df2r2_w_per,2), \"%\")\n",
    "print(\"\")"
   ]
  },
  {
   "cell_type": "markdown",
   "metadata": {},
   "source": [
    "### Stock"
   ]
  },
  {
   "cell_type": "code",
   "execution_count": null,
   "metadata": {},
   "outputs": [],
   "source": [
    "plots(df1_steps,'q_stock','ex1')\n",
    "plots(df2_steps,'q_stock','ex2')\n",
    "plots(df3_steps,'q_stock','ex3')\n",
    "plots(df5_steps,'q_stock','ex5')"
   ]
  },
  {
   "cell_type": "markdown",
   "metadata": {},
   "source": [
    "### Consumed"
   ]
  },
  {
   "cell_type": "code",
   "execution_count": null,
   "metadata": {},
   "outputs": [],
   "source": [
    "plots(df1_steps,'q_consumed',\"ex1\")\n",
    "plots(df2_steps,'q_consumed',\"ex2\")\n",
    "plots(df3_steps,'q_consumed',\"ex3\")\n",
    "plots(df5_steps,'q_consumed',\"ex4\")"
   ]
  },
  {
   "cell_type": "markdown",
   "metadata": {},
   "source": [
    "### Wasted"
   ]
  },
  {
   "cell_type": "code",
   "execution_count": null,
   "metadata": {},
   "outputs": [],
   "source": [
    "plots(df1_steps,'q_wasted',\"ex1\")\n",
    "plots(df2_steps,'q_wasted',\"ex2\")\n",
    "plots(df3_steps,'q_wasted',\"ex3\")\n",
    "plots(df5_steps,'q_wasted',\"ex5\")"
   ]
  },
  {
   "cell_type": "markdown",
   "metadata": {},
   "source": [
    "# Product Decay"
   ]
  },
  {
   "cell_type": "code",
   "execution_count": null,
   "metadata": {},
   "outputs": [],
   "source": [
    "# Product life tracker\n",
    "df1_life = pd.read_csv(data_dir+\"ex1_life_tracker.csv\" , delimiter=\";\", header=0)\n",
    "df2_life = pd.read_csv(data_dir+\"ex2_life_tracker.csv\" , delimiter=\";\", header=0)\n",
    "df3_life = pd.read_csv(data_dir+\"ex3_life_tracker.csv\" , delimiter=\";\", header=0)\n",
    "df5_life = pd.read_csv(data_dir+\"ex5_life_tracker.csv\" , delimiter=\";\", header=0)"
   ]
  },
  {
   "cell_type": "code",
   "execution_count": null,
   "metadata": {},
   "outputs": [],
   "source": [
    "def plot_decay(df_life,ex):\n",
    "    plt.plot(df_life['steps'],df_life['shelf_life'], label=ex,marker = '.')\n",
    "    plt.ylabel(\"reference shelf_life\")\n",
    "    plt.xlabel(\"ticks\")\n",
    "    plt.title(\"Mean Shelf life \")\n",
    "    plt.legend()"
   ]
  },
  {
   "cell_type": "code",
   "execution_count": null,
   "metadata": {},
   "outputs": [],
   "source": [
    "plot_decay(df1_life,\"ex1\")\n",
    "plot_decay(df2_life,\"ex2\")\n",
    "plot_decay(df3_life,\"ex3\")\n",
    "plot_decay(df5_life,\"ex5\")"
   ]
  }
 ],
 "metadata": {
  "kernelspec": {
   "display_name": "Python 3",
   "language": "python",
   "name": "python3"
  },
  "language_info": {
   "codemirror_mode": {
    "name": "ipython",
    "version": 3
   },
   "file_extension": ".py",
   "mimetype": "text/x-python",
   "name": "python",
   "nbconvert_exporter": "python",
   "pygments_lexer": "ipython3",
   "version": "3.7.8"
  }
 },
 "nbformat": 4,
 "nbformat_minor": 2
}
