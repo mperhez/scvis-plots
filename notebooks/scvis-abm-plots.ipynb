{
 "cells": [
  {
   "cell_type": "code",
   "execution_count": null,
   "metadata": {},
   "outputs": [],
   "source": [
    "!pip install matplotlib\n",
    "!pip install pandas\n",
    "!pip install np"
   ]
  },
  {
   "cell_type": "code",
   "execution_count": null,
   "metadata": {},
   "outputs": [],
   "source": [
    "from matplotlib import pyplot as plt\n",
    "import numpy as np\n",
    "import pandas as pd\n",
    "import os"
   ]
  },
  {
   "cell_type": "markdown",
   "metadata": {},
   "source": [
    "# Volumes of Product"
   ]
  },
  {
   "cell_type": "code",
   "execution_count": null,
   "metadata": {},
   "outputs": [],
   "source": [
    "data_dir = \"../for_tuning/\""
   ]
  },
  {
   "cell_type": "code",
   "execution_count": null,
   "metadata": {},
   "outputs": [],
   "source": [
    "# Variables per agent and time step\n",
    "df1_steps = pd.read_csv(data_dir+\"ex1_agent_steps.csv\" , delimiter=\";\", header=0)\n",
    "df2_steps = pd.read_csv(data_dir+\"ex2_agent_steps.csv\" , delimiter=\";\", header=0)\n",
    "df3_steps = pd.read_csv(data_dir+\"ex3_agent_steps.csv\" , delimiter=\";\", header=0)\n",
    "df5_steps = pd.read_csv(data_dir+\"ex5_agent_steps.csv\" , delimiter=\";\", header=0)\n",
    "print(df5_steps.columns)"
   ]
  },
  {
   "cell_type": "code",
   "execution_count": null,
   "metadata": {},
   "outputs": [],
   "source": [
    "agents = ['Grower_1','Grower_2','Distributor','Retailer','Transporter_1 (LD)','Transporter_2 (LD)', 'Transporter (SD)']\n",
    "\n",
    "titles = {\"q_stock\":\"Stock\",\"q_wasted\":\"Wasted\",\"q_consumed\":\"Consumed\"}\n",
    "def plots(df,field,ex):\n",
    "    df_p = df[['step','id',field]]\n",
    "    fig, ax = plt.subplots(figsize=(8,6))\n",
    "    pls = []\n",
    "    for label, dfg in df_p.groupby('id'):\n",
    "        dfg.plot('step',field,ax=ax, label=agents[label-1], title=ex+\": \"+titles[field], marker = '.')\n",
    "        \n",
    "    plt.ylabel(\"product units\")\n",
    "    plt.xlabel(\"ticks\")\n",
    "    plt.legend(handles=ax.get_legend_handles_labels()[0], title='Agents', bbox_to_anchor=(1.05, 1), loc='upper left')"
   ]
  },
  {
   "cell_type": "markdown",
   "metadata": {},
   "source": [
    "### Stock"
   ]
  },
  {
   "cell_type": "code",
   "execution_count": null,
   "metadata": {},
   "outputs": [],
   "source": [
    "plots(df1_steps,'q_stock','ex1')\n",
    "plots(df2_steps,'q_stock','ex2')\n",
    "plots(df3_steps,'q_stock','ex3')\n",
    "plots(df5_steps,'q_stock','ex5')"
   ]
  },
  {
   "cell_type": "markdown",
   "metadata": {},
   "source": [
    "### Consumed"
   ]
  },
  {
   "cell_type": "code",
   "execution_count": null,
   "metadata": {},
   "outputs": [],
   "source": [
    "plots(df1_steps,'q_consumed',\"ex1\")\n",
    "plots(df2_steps,'q_consumed',\"ex2\")\n",
    "plots(df3_steps,'q_consumed',\"ex3\")\n",
    "plots(df5_steps,'q_consumed',\"ex4\")"
   ]
  },
  {
   "cell_type": "markdown",
   "metadata": {},
   "source": [
    "### Wasted"
   ]
  },
  {
   "cell_type": "code",
   "execution_count": null,
   "metadata": {},
   "outputs": [],
   "source": [
    "plots(df1_steps,'q_wasted',\"ex1\")\n",
    "plots(df2_steps,'q_wasted',\"ex2\")\n",
    "plots(df3_steps,'q_wasted',\"ex3\")\n",
    "plots(df5_steps,'q_wasted',\"ex5\")"
   ]
  },
  {
   "cell_type": "markdown",
   "metadata": {},
   "source": [
    "# Product Decay"
   ]
  },
  {
   "cell_type": "code",
   "execution_count": null,
   "metadata": {},
   "outputs": [],
   "source": [
    "# Product life tracker\n",
    "df1_life = pd.read_csv(data_dir+\"ex1_life_tracker.csv\" , delimiter=\";\", header=0)\n",
    "df2_life = pd.read_csv(data_dir+\"ex2_life_tracker.csv\" , delimiter=\";\", header=0)\n",
    "df3_life = pd.read_csv(data_dir+\"ex3_life_tracker.csv\" , delimiter=\";\", header=0)\n",
    "df5_life = pd.read_csv(data_dir+\"ex5_life_tracker.csv\" , delimiter=\";\", header=0)"
   ]
  },
  {
   "cell_type": "code",
   "execution_count": null,
   "metadata": {},
   "outputs": [],
   "source": [
    "def plot_decay(df_life,ex):\n",
    "    plt.plot(df_life['steps'],df_life['shelf_life'], label=ex,marker = '.')\n",
    "    plt.ylabel(\"reference shelf_life\")\n",
    "    plt.xlabel(\"ticks\")\n",
    "    plt.title(\"Mean Shelf life \")\n",
    "    plt.legend()"
   ]
  },
  {
   "cell_type": "code",
   "execution_count": null,
   "metadata": {},
   "outputs": [],
   "source": [
    "plot_decay(df1_life,\"ex1\")\n",
    "plot_decay(df2_life,\"ex2\")\n",
    "plot_decay(df3_life,\"ex3\")\n",
    "plot_decay(df5_life,\"ex5\")"
   ]
  }
 ],
 "metadata": {
  "kernelspec": {
   "display_name": "Python 3",
   "language": "python",
   "name": "python3"
  },
  "language_info": {
   "codemirror_mode": {
    "name": "ipython",
    "version": 3
   },
   "file_extension": ".py",
   "mimetype": "text/x-python",
   "name": "python",
   "nbconvert_exporter": "python",
   "pygments_lexer": "ipython3",
   "version": "3.7.6"
  }
 },
 "nbformat": 4,
 "nbformat_minor": 2
}
